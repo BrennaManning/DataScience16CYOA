{
 "cells": [
  {
   "cell_type": "code",
   "execution_count": 1,
   "metadata": {
    "collapsed": false
   },
   "outputs": [
    {
     "name": "stderr",
     "output_type": "stream",
     "text": [
      "/home/brenna/anaconda2/lib/python2.7/site-packages/matplotlib/__init__.py:872: UserWarning: axes.color_cycle is deprecated and replaced with axes.prop_cycle; please use the latter.\n",
      "  warnings.warn(self.msg_depr % (key, alt_key))\n"
     ]
    }
   ],
   "source": [
    "%matplotlib inline\n",
    "import pandas as pd\n",
    "import os\n",
    "import matplotlib.pyplot as plt\n",
    "import seaborn as sns\n",
    "import numpy as np\n",
    "import sklearn\n",
    "import scipy.stats as st\n",
    "import random\n",
    "from datetime import datetime"
   ]
  },
  {
   "cell_type": "code",
   "execution_count": 2,
   "metadata": {
    "collapsed": true
   },
   "outputs": [],
   "source": [
    "cur_dir = os.path.dirname('__file__')\n",
    "\n",
    "train = pd.read_csv(os.path.join(cur_dir, \"data\", \"train.csv\"))\n",
    "test = pd.read_csv(os.path.join(cur_dir, \"data\", \"test.csv\"))\n",
    "mapdata = np.loadtxt(os.path.join(cur_dir, \"data\", \"sf_map.txt\"))"
   ]
  },
  {
   "cell_type": "code",
   "execution_count": 5,
   "metadata": {
    "collapsed": true
   },
   "outputs": [],
   "source": [
    "def get_random_subset(df, n=5000):\n",
    "    sub = random.sample(xrange(len(df)), min(n, len(df)))\n",
    "    return df.iloc[sub]\n",
    "\n",
    "def preprocess(df):\n",
    "    res = df.copy()\n",
    "    res = res[res.X != res.X.max()]\n",
    "    datetimes = res.Dates.apply(get_datetime)\n",
    "    res['Hour'] = datetimes.apply(lambda dt: dt.hour)\n",
    "    res['Month'] = datetimes.apply(lambda dt: dt.month)\n",
    "    res['Hour_Minutes'] = datetimes.apply(lambda dt: dt.hour + dt.minute / 60.0)\n",
    "    res['Minutes_Since_03'] = datetimes.apply(lambda dt: (dt-datetime(2003, 1, 1)).total_seconds() / 60)\n",
    "    res['Minutes_Since_New_Year'] = datetimes.apply(lambda dt: (dt-datetime(dt.year, 1, 1)).total_seconds() / 60)\n",
    "    res['DOW'] = train.DayOfWeek.apply(lambda x: dow.index(x))\n",
    "    res['Street_Corner'] = res['Address'].apply(lambda x: 1 if '/' in x else 0)\n",
    "    return res\n",
    "\n",
    "def get_datetime(s):\n",
    "    dt = datetime.strptime(s, \"%Y-%m-%d %H:%M:%S\")\n",
    "    return dt\n",
    "\n",
    "dow = ['Monday', 'Tuesday', 'Wednesday', 'Thursday', 'Friday', 'Saturday', 'Sunday']\n",
    "\n",
    "def isNight(hour):\n",
    "    if hour in [0, 1, 2, 3, 4, 5, 6, 19, 20, 21, 22, 23]:\n",
    "        return \"Night\"\n",
    "    else:\n",
    "        return \"Day\""
   ]
  },
  {
   "cell_type": "code",
   "execution_count": 6,
   "metadata": {
    "collapsed": false
   },
   "outputs": [],
   "source": [
    "train_df = preprocess(get_random_subset(train))"
   ]
  },
  {
   "cell_type": "code",
   "execution_count": null,
   "metadata": {
    "collapsed": true
   },
   "outputs": [],
   "source": []
  },
  {
   "cell_type": "code",
   "execution_count": 7,
   "metadata": {
    "collapsed": false
   },
   "outputs": [
    {
     "name": "stdout",
     "output_type": "stream",
     "text": [
      "                 X            Y         Hour        Month  Hour_Minutes  \\\n",
      "count  4997.000000  4997.000000  4997.000000  4997.000000   4997.000000   \n",
      "mean   -122.422484    37.766955    13.328397     6.470883     13.659599   \n",
      "std       0.025249     0.024173     6.584094     3.441057      6.593897   \n",
      "min    -122.513642    37.708154     0.000000     1.000000      0.016667   \n",
      "25%    -122.432612    37.752647     9.000000     4.000000      9.433333   \n",
      "50%    -122.416078    37.775421    14.000000     6.000000     14.750000   \n",
      "75%    -122.406539    37.784385    19.000000    10.000000     19.000000   \n",
      "max    -122.365565    37.809671    23.000000    12.000000     23.983333   \n",
      "\n",
      "       Minutes_Since_03  Minutes_Since_New_Year          DOW  Street_Corner  \n",
      "count       4997.000000             4997.000000  4997.000000    4997.000000  \n",
      "mean     3263014.941165           260852.971983     2.979988       0.292175  \n",
      "std      1914601.777390           151348.441090     1.991274       0.454808  \n",
      "min         7680.000000                1.000000     0.000000       0.000000  \n",
      "25%      1591318.000000           132050.000000     1.000000       0.000000  \n",
      "50%      3247113.000000           257370.000000     3.000000       0.000000  \n",
      "75%      4976100.000000           396001.000000     5.000000       1.000000  \n",
      "max      6502473.000000           525510.000000     6.000000       1.000000  \n"
     ]
    }
   ],
   "source": [
    "print train_df.describe()"
   ]
  },
  {
   "cell_type": "code",
   "execution_count": null,
   "metadata": {
    "collapsed": false
   },
   "outputs": [],
   "source": [
    "from sklearn.tree import DecisionTreeClassifier\n",
    "from sklearn.ensemble import RandomForestClassifier\n",
    "from patsy import dmatrices\n",
    "from sklearn import cross_validation\n",
    "\n",
    "formula_ml = 'Category~X+Y+Hour'\n",
    "y_train, x_train = dmatrices(formula_ml, data=train_df, return_type='dataframe')\n",
    "#print x_train\n",
    "# print y_train\n",
    "#y_train = np.asarray(y_train).ravel()\n",
    "\n",
    "alg = RandomForestClassifier()\n",
    "# print y_train.shape\n",
    "# print x_train.shape\n",
    "scores1 = cross_validation.cross_val_score(alg, x_train, train_df['Category'], cv=3)\n",
    "scores2 = cross_validation.cross_val_score(alg, train_df[['X', 'Y']], train_df['Category'], cv=3)\n",
    "\n",
    "print 'Score: '\n",
    "print str(scores1.mean())\n",
    "print str(scores2.mean())"
   ]
  },
  {
   "cell_type": "code",
   "execution_count": null,
   "metadata": {
    "collapsed": true
   },
   "outputs": [],
   "source": []
  }
 ],
 "metadata": {
  "kernelspec": {
   "display_name": "Python 2",
   "language": "python",
   "name": "python2"
  },
  "language_info": {
   "codemirror_mode": {
    "name": "ipython",
    "version": 2
   },
   "file_extension": ".py",
   "mimetype": "text/x-python",
   "name": "python",
   "nbconvert_exporter": "python",
   "pygments_lexer": "ipython2",
   "version": "2.7.11"
  }
 },
 "nbformat": 4,
 "nbformat_minor": 0
}
