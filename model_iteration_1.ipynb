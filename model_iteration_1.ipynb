{
 "cells": [
  {
   "cell_type": "code",
   "execution_count": 10,
   "metadata": {
    "collapsed": false
   },
   "outputs": [],
   "source": [
    "%matplotlib inline\n",
    "import pandas as pd\n",
    "import os\n",
    "import matplotlib.pyplot as plt\n",
    "import seaborn as sns\n",
    "import numpy as np\n",
    "import sklearn\n",
    "import scipy.stats as st\n",
    "import random\n",
    "from datetime import datetime\n",
    "from sklearn.cross_validation import train_test_split\n",
    "from sklearn import preprocessing\n",
    "from sklearn.metrics import log_loss\n",
    "from sklearn.naive_bayes import BernoulliNB\n",
    "from sklearn.linear_model import LogisticRegression\n",
    "from sklearn.tree import DecisionTreeClassifier\n",
    "from sklearn.ensemble import RandomForestClassifier\n",
    "from patsy import dmatrix\n",
    "from sklearn import cross_validation\n",
    "from sklearn.cross_validation import KFold"
   ]
  },
  {
   "cell_type": "code",
   "execution_count": 21,
   "metadata": {
    "collapsed": false
   },
   "outputs": [],
   "source": [
    "cur_dir = os.path.dirname('__file__')\n",
    "\n",
    "# train=pd.read_csv('train.csv', parse_dates = ['Dates'])\n",
    "# test=pd.read_csv('test.csv', parse_dates = ['Dates'])\n",
    "\n",
    "train = pd.read_csv(os.path.join(cur_dir, \"data\", \"train.csv\"))\n",
    "test = pd.read_csv(os.path.join(cur_dir, \"data\", \"test.csv\"))\n",
    "mapdata = np.loadtxt(os.path.join(cur_dir, \"data\", \"sf_map.txt\"))"
   ]
  },
  {
   "cell_type": "code",
   "execution_count": 5,
   "metadata": {
    "collapsed": true
   },
   "outputs": [],
   "source": [
    "def get_random_subset(df, n=5000):\n",
    "    sub = random.sample(xrange(len(df)), min(n, len(df)))\n",
    "    return df.iloc[sub]\n",
    "\n",
    "def preprocess(df):\n",
    "    res = df.copy()\n",
    "    res = res[res.X != res.X.max()]\n",
    "    datetimes = res.Dates.apply(get_datetime)\n",
    "    res['Hour'] = datetimes.apply(lambda dt: dt.hour)\n",
    "    res['Month'] = datetimes.apply(lambda dt: dt.month)\n",
    "    res['Year'] = datetimes.apply(lambda dt: dt.year)\n",
    "    res['Hour_Minutes'] = datetimes.apply(lambda dt: dt.hour + dt.minute / 60.0)\n",
    "    res['Minutes_Since_03'] = datetimes.apply(lambda dt: (dt-datetime(2003, 1, 1)).total_seconds() / 60)\n",
    "    res['Minutes_Since_New_Year'] = datetimes.apply(lambda dt: (dt-datetime(dt.year, 1, 1)).total_seconds() / 60)\n",
    "    res['DOW'] = train.DayOfWeek.apply(lambda x: dow.index(x))\n",
    "    res['Street_Corner'] = res['Address'].apply(lambda x: 1 if '/' in x else 0)\n",
    "    le_crime = preprocessing.LabelEncoder()\n",
    "    crime = le_crime.fit_transform(res.Category)\n",
    "    \n",
    "    res['crime'] = crime\n",
    "    return res\n",
    "\n",
    "def get_datetime(s):\n",
    "    dt = datetime.strptime(s, \"%Y-%m-%d %H:%M:%S\")\n",
    "    return dt\n",
    "\n",
    "dow = ['Monday', 'Tuesday', 'Wednesday', 'Thursday', 'Friday', 'Saturday', 'Sunday']\n",
    "\n",
    "def isNight(hour):\n",
    "    if hour in [0, 1, 2, 3, 4, 5, 6, 19, 20, 21, 22, 23]:\n",
    "        return \"Night\"\n",
    "    else:\n",
    "        return \"Day\""
   ]
  },
  {
   "cell_type": "code",
   "execution_count": 22,
   "metadata": {
    "collapsed": false
   },
   "outputs": [],
   "source": [
    "# train = preprocess(get_random_subset(train, 100000))\n",
    "train = preprocess(train)"
   ]
  },
  {
   "cell_type": "code",
   "execution_count": null,
   "metadata": {
    "collapsed": true
   },
   "outputs": [],
   "source": []
  },
  {
   "cell_type": "code",
   "execution_count": 7,
   "metadata": {
    "collapsed": false
   },
   "outputs": [
    {
     "name": "stdout",
     "output_type": "stream",
     "text": [
      "                      Dates        Category  \\\n",
      "747525  2004-09-30 15:30:00   VEHICLE THEFT   \n",
      "177062  2013-01-09 12:00:00  OTHER OFFENSES   \n",
      "286453  2011-06-15 10:00:00   LARCENY/THEFT   \n",
      "365332  2010-04-11 12:00:00    NON-CRIMINAL   \n",
      "356851  2010-06-01 09:45:00  OTHER OFFENSES   \n",
      "\n",
      "                                            Descript  DayOfWeek  PdDistrict  \\\n",
      "747525                             STOLEN AUTOMOBILE   Thursday     CENTRAL   \n",
      "177062  FALSE PERSONATION AND CHEAT CRIMES (GENERAL)  Wednesday     BAYVIEW   \n",
      "286453                   PETTY THEFT FROM A BUILDING  Wednesday   INGLESIDE   \n",
      "365332                                  CASE CLOSURE     Sunday  TENDERLOIN   \n",
      "356851                         HARASSING PHONE CALLS    Tuesday    SOUTHERN   \n",
      "\n",
      "       Resolution                    Address           X          Y  Hour  \\\n",
      "747525       NONE        TAYLOR ST / BUSH ST -122.412079  37.789739    15   \n",
      "177062       NONE  900 Block of WISCONSIN ST -122.398676  37.755284    12   \n",
      "286453       NONE       0 Block of CURTIS ST -122.439819  37.714105    10   \n",
      "365332  UNFOUNDED       300 Block of EDDY ST -122.412931  37.783834    12   \n",
      "356851       NONE     800 Block of BRYANT ST -122.403405  37.775421     9   \n",
      "\n",
      "        Month  Year  Hour_Minutes  Minutes_Since_03  Minutes_Since_New_Year  \\\n",
      "747525      9  2004         15.50            919650                  394050   \n",
      "177062      1  2013         12.00           5272560                   12240   \n",
      "286453      6  2011         10.00           4445880                  238200   \n",
      "365332      4  2010         12.00           3826800                  144720   \n",
      "356851      6  2010          9.75           3900105                  218025   \n",
      "\n",
      "        DOW  Street_Corner  crime  \n",
      "747525    3              1     35  \n",
      "177062    2              0     21  \n",
      "286453    2              0     16  \n",
      "365332    6              0     20  \n",
      "356851    1              0     21  \n"
     ]
    }
   ],
   "source": [
    "print train_df.head()"
   ]
  },
  {
   "cell_type": "code",
   "execution_count": 27,
   "metadata": {
    "collapsed": false
   },
   "outputs": [
    {
     "name": "stdout",
     "output_type": "stream",
     "text": [
      "(351193, 39)\n",
      "2.62269121691\n"
     ]
    }
   ],
   "source": [
    "training, validation = train_test_split(train, train_size=.60)\n",
    "# features = ['DayOfWeek', 'PdDistrict'+X+Y+C(Hour)+C(Month)+C(Year)+Street_Corner']\n",
    "formula_ml = 'C(DayOfWeek)+C(PdDistrict)+X+Y+C(Hour)+C(Month)+C(Year)+Street_Corner'\n",
    "formula_ml = 'C(DayOfWeek) + C(PdDistrict) + Street_Corner'\n",
    "x_train = dmatrix(formula_ml, data=training, return_type='dataframe')\n",
    "x_validation = dmatrix(formula_ml, data=validation, return_type='dataframe')\n",
    "y_train = training['crime']\n",
    "\n",
    "alg = RandomForestClassifier()\n",
    "alg = BernoulliNB()\n",
    "\n",
    "alg.fit(x_train, y_train)\n",
    "predictions = np.array(alg.predict_proba(x_validation))\n",
    "print predictions.shape\n",
    "\n",
    "print log_loss(validation['crime'], predictions)"
   ]
  },
  {
   "cell_type": "code",
   "execution_count": null,
   "metadata": {
    "collapsed": false
   },
   "outputs": [],
   "source": [
    "train = get_random_subset(train)\n",
    "\n",
    "#Convert crime labels to numbers\n",
    "le_crime = preprocessing.LabelEncoder()\n",
    "crime = le_crime.fit_transform(train.Category)\n",
    " \n",
    "#Get binarized weekdays, districts, and hours.\n",
    "days = pd.get_dummies(train.DayOfWeek)\n",
    "district = pd.get_dummies(train.PdDistrict)\n",
    "hour = train.Dates.dt.hour\n",
    "hour = pd.get_dummies(hour) \n",
    " \n",
    "#Build new array\n",
    "train_data = pd.concat([hour, days, district], axis=1)\n",
    "train_data['crime']=crime\n",
    " \n",
    "#Repeat for test data\n",
    "days = pd.get_dummies(test.DayOfWeek)\n",
    "district = pd.get_dummies(test.PdDistrict)\n",
    " \n",
    "hour = test.Dates.dt.hour\n",
    "hour = pd.get_dummies(hour) \n",
    " \n",
    "test_data = pd.concat([hour, days, district], axis=1)\n",
    " \n",
    "training, validation = train_test_split(train_data, train_size=.60)"
   ]
  },
  {
   "cell_type": "code",
   "execution_count": null,
   "metadata": {
    "collapsed": true
   },
   "outputs": [],
   "source": []
  }
 ],
 "metadata": {
  "kernelspec": {
   "display_name": "Python 2",
   "language": "python",
   "name": "python2"
  },
  "language_info": {
   "codemirror_mode": {
    "name": "ipython",
    "version": 2
   },
   "file_extension": ".py",
   "mimetype": "text/x-python",
   "name": "python",
   "nbconvert_exporter": "python",
   "pygments_lexer": "ipython2",
   "version": "2.7.6"
  }
 },
 "nbformat": 4,
 "nbformat_minor": 0
}
