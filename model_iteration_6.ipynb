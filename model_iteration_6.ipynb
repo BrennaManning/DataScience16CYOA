{
 "cells": [
  {
   "cell_type": "code",
   "execution_count": 1,
   "metadata": {
    "collapsed": false
   },
   "outputs": [],
   "source": [
    "%matplotlib inline\n",
    "import pandas as pd\n",
    "import os\n",
    "import matplotlib.pyplot as plt\n",
    "import seaborn as sns\n",
    "import numpy as np\n",
    "import sklearn\n",
    "import scipy.stats as st\n",
    "import random\n",
    "from datetime import datetime\n",
    "from sklearn.tree import DecisionTreeClassifier\n",
    "from sklearn.ensemble import RandomForestClassifier\n",
    "from sklearn.linear_model import LogisticRegressionCV\n",
    "from patsy import dmatrix, dmatrices\n",
    "from sklearn import cross_validation\n",
    "from sklearn.cross_validation import train_test_split, cross_val_score, cross_val_predict\n",
    "from sklearn.metrics import log_loss\n",
    "from sklearn.preprocessing import MultiLabelBinarizer, LabelBinarizer, LabelEncoder\n",
    "from sklearn.grid_search import GridSearchCV\n",
    "from sklearn.naive_bayes import BernoulliNB\n",
    "from sklearn.linear_model import LogisticRegression\n",
    "from sklearn.base import BaseEstimator\n",
    "from sklearn.cross_validation import StratifiedKFold\n",
    "from sklearn.dummy import DummyClassifier"
   ]
  },
  {
   "cell_type": "code",
   "execution_count": 2,
   "metadata": {
    "collapsed": false
   },
   "outputs": [],
   "source": [
    "cur_dir = os.path.dirname('__file__')\n",
    "\n",
    "train = pd.read_csv(os.path.join(cur_dir, \"data\", \"train.csv\"))\n",
    "test = pd.read_csv(os.path.join(cur_dir, \"data\", \"test.csv\"))\n",
    "#mapdata = np.loadtxt(os.path.join(cur_dir, \"data\", \"sf_map.txt\"))"
   ]
  },
  {
   "cell_type": "code",
   "execution_count": 9,
   "metadata": {
    "collapsed": true
   },
   "outputs": [],
   "source": [
    "def get_random_subset(df, n=None):\n",
    "    if (n is None):\n",
    "        return df\n",
    "    sub = random.sample(xrange(len(df)), min(n, len(df)))\n",
    "    return df.iloc[sub]\n",
    "\n",
    "def preprocess(df, drop=True):\n",
    "    res = df.copy()\n",
    "    if (drop):\n",
    "        res = res[res.X != res.X.max()]\n",
    "    datetimes = res.Dates.apply(get_datetime)\n",
    "    res['Hour'] = datetimes.apply(lambda dt: dt.hour)\n",
    "    res['Month'] = datetimes.apply(lambda dt: dt.month)\n",
    "    res['Hour_Minutes'] = datetimes.apply(lambda dt: dt.hour + dt.minute / 60.0)\n",
    "    res['Minutes_Since_03'] = datetimes.apply(lambda dt: (dt-datetime(2003, 1, 1)).total_seconds() / 60)\n",
    "    res['Minutes_Since_New_Year'] = datetimes.apply(lambda dt: (dt-datetime(dt.year, 1, 1)).total_seconds() / 60)\n",
    "    res['Street_Corner'] = res['Address'].apply(lambda x: 1 if '/' in x else 0)\n",
    "    res['Weekend'] = res.DayOfWeek.isin(['Saturday, Sunday'])\n",
    "    return res\n",
    "\n",
    "def get_datetime(s):\n",
    "    dt = datetime.strptime(s, \"%Y-%m-%d %H:%M:%S\")\n",
    "    return dt\n",
    "\n",
    "dow = ['Monday', 'Tuesday', 'Wednesday', 'Thursday', 'Friday', 'Saturday', 'Sunday']\n",
    "\n",
    "def isNight(hour):\n",
    "    if hour in [0, 1, 2, 3, 4, 5, 6, 19, 20, 21, 22, 23]:\n",
    "        return \"Night\"\n",
    "    else:\n",
    "        return \"Day\""
   ]
  },
  {
   "cell_type": "code",
   "execution_count": 7,
   "metadata": {
    "collapsed": false
   },
   "outputs": [],
   "source": [
    "def train_models(models, x_train, y_train):\n",
    "    for m in models:\n",
    "        m.fit(x_train, y_train)\n",
    "        \n",
    "def get_x_matrix(df, formula):\n",
    "    x_vals = dmatrix(formula, data=df, return_type='dataframe')\n",
    "    return x_vals\n",
    "        \n",
    "def get_x_y_matrices(df, formula, target, filt=True):\n",
    "    \n",
    "    x_vals = dmatrix(formula, data=df, return_type='dataframe')\n",
    "    y_vals = df[target]\n",
    "    if (filt):\n",
    "        return filter_infrequent(x_vals, y_vals)\n",
    "    return x_vals, y_vals\n",
    "    \n",
    "def filter_infrequent(x, y, threshold=3):\n",
    "    counts = y.value_counts()\n",
    "    for cat, count in counts.iteritems():\n",
    "        if count < 3:\n",
    "            x = x[y != cat]\n",
    "            y = y[y != cat]\n",
    "            \n",
    "    return x, y"
   ]
  },
  {
   "cell_type": "code",
   "execution_count": null,
   "metadata": {
    "collapsed": true
   },
   "outputs": [],
   "source": [
    "class ProbaRandomForestClassifier(RandomForestClassifier):\n",
    "    def predict(self, X):\n",
    "        return self.predict_proba(X)\n",
    "        \n",
    "class ProbaLogisticRegression(LogisticRegression):\n",
    "    def predict(self, X):\n",
    "        return self.predict_proba(X)"
   ]
  },
  {
   "cell_type": "code",
   "execution_count": 10,
   "metadata": {
    "collapsed": false
   },
   "outputs": [],
   "source": [
    "train_df = preprocess(get_random_subset(train), drop=False)\n",
    "# train_df = preprocess(train)"
   ]
  },
  {
   "cell_type": "code",
   "execution_count": null,
   "metadata": {
    "collapsed": false
   },
   "outputs": [],
   "source": [
    "formula_ml = 'C(DayOfWeek) + C(PdDistrict) + Street_Corner + X+Y+Hour+Month'\n",
    "\n",
    "x_vals, y_vals = get_x_y_matrices(train_df, formula_ml, 'Category')\n",
    "\n",
    "lb = LabelBinarizer()\n",
    "lb.fit(y_vals)\n",
    "y_vals_matrix = lb.transform(y_vals)\n",
    "\n",
    "clf_forest = ProbaRandomForestClassifier(min_samples_leaf=300)\n",
    "\n",
    "predictions = cross_val_predict(clf_forest, x_vals, y_vals)\n",
    "crimes = lb.classes_\n",
    "scores = []\n",
    "\n",
    "for i, crime in enumerate(crimes):\n",
    "    indexor = (y_vals == crime).values\n",
    "    scores.append(log_loss(y_vals_matrix[indexor], predictions[indexor]))\n",
    "    \n",
    "ax = sns.barplot(x=crimes, y=scores)\n",
    "plt.sca(ax)\n",
    "plt.xticks(rotation=90)\n",
    "    \n",
    "plt.gcf().set_size_inches(16, 6, forward=True)"
   ]
  },
  {
   "cell_type": "markdown",
   "metadata": {},
   "source": [
    "### Normalize to crime frequency"
   ]
  },
  {
   "cell_type": "code",
   "execution_count": null,
   "metadata": {
    "collapsed": false
   },
   "outputs": [],
   "source": [
    "counts = y_vals.value_counts()\n",
    "print counts\n",
    "weighted_scores = []\n",
    "for i, crime in enumerate(crimes):\n",
    "    weighted_scores.append(scores[i] * counts[crime])\n",
    "ax = sns.barplot(x=crimes, y=weighted_scores)\n",
    "plt.sca(ax)\n",
    "plt.xticks(rotation=90)\n",
    "    \n",
    "plt.gcf().set_size_inches(16, 6, forward=True)"
   ]
  },
  {
   "cell_type": "code",
   "execution_count": 11,
   "metadata": {
    "collapsed": false,
    "scrolled": true
   },
   "outputs": [],
   "source": [
    "alg = RandomForestClassifier(min_samples_leaf=300)\n",
    "formula_ml = 'C(DayOfWeek) + C(PdDistrict) + Street_Corner + X+Y+Hour+Month'\n",
    "\n",
    "x_train, y_train = get_x_y_matrices(train_df, formula_ml, 'Category')\n",
    "alg.fit(x_train, y_train)\n",
    "\n",
    "predictions = alg.predict_proba(get_x_matrix(preprocess(test,drop=False), formula_ml))\n",
    "predictions = pd.DataFrame(predictions, index=test.index, columns=alg.classes_)\n",
    "\n",
    "predictions.to_csv(\"predictions.csv\", index_label=\"Id\")\n",
    "\n",
    "# labels =['Id']\n",
    "# for i in alg.classes_:\n",
    "#     labels.append(i)\n",
    "# with gzip.open('sfcrime.csv.gz', 'wb') as outf:\n",
    "#     fo =csv.writer(outf, lineterminator = '\\n' )\n",
    "#     fo.writerow(labels)\n",
    "    \n",
    "#     for i, pred in enumerate(predictions):\n",
    "#         fo.writerow([i] + list(pred))"
   ]
  },
  {
   "cell_type": "code",
   "execution_count": null,
   "metadata": {
    "collapsed": true
   },
   "outputs": [],
   "source": []
  }
 ],
 "metadata": {
  "kernelspec": {
   "display_name": "Python 2",
   "language": "python",
   "name": "python2"
  },
  "language_info": {
   "codemirror_mode": {
    "name": "ipython",
    "version": 2
   },
   "file_extension": ".py",
   "mimetype": "text/x-python",
   "name": "python",
   "nbconvert_exporter": "python",
   "pygments_lexer": "ipython2",
   "version": "2.7.6"
  }
 },
 "nbformat": 4,
 "nbformat_minor": 0
}
