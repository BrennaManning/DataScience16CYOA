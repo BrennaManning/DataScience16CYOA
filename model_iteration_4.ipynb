{
 "cells": [
  {
   "cell_type": "code",
   "execution_count": 7,
   "metadata": {
    "collapsed": false
   },
   "outputs": [],
   "source": [
    "%matplotlib inline\n",
    "import pandas as pd\n",
    "import os\n",
    "import matplotlib.pyplot as plt\n",
    "import seaborn as sns\n",
    "import numpy as np\n",
    "import sklearn\n",
    "import scipy.stats as st\n",
    "import random\n",
    "from datetime import datetime\n",
    "from sklearn.tree import DecisionTreeClassifier\n",
    "from sklearn.ensemble import RandomForestClassifier\n",
    "from sklearn.linear_model import LogisticRegressionCV\n",
    "from patsy import dmatrix, dmatrices\n",
    "from sklearn import cross_validation\n",
    "from sklearn.cross_validation import train_test_split\n",
    "from sklearn.metrics import log_loss\n",
    "from sklearn.preprocessing import MultiLabelBinarizer\n",
    "from sklearn.grid_search import GridSearchCV\n",
    "from sklearn.naive_bayes import BernoulliNB\n",
    "from sklearn.linear_model import LogisticRegression"
   ]
  },
  {
   "cell_type": "code",
   "execution_count": 8,
   "metadata": {
    "collapsed": true
   },
   "outputs": [],
   "source": [
    "cur_dir = os.path.dirname('__file__')\n",
    "\n",
    "train = pd.read_csv(os.path.join(cur_dir, \"data\", \"train.csv\"))\n",
    "test = pd.read_csv(os.path.join(cur_dir, \"data\", \"test.csv\"))\n",
    "mapdata = np.loadtxt(os.path.join(cur_dir, \"data\", \"sf_map.txt\"))"
   ]
  },
  {
   "cell_type": "code",
   "execution_count": 9,
   "metadata": {
    "collapsed": true
   },
   "outputs": [],
   "source": [
    "def get_random_subset(df, n=5000):\n",
    "    sub = random.sample(xrange(len(df)), min(n, len(df)))\n",
    "    return df.iloc[sub]\n",
    "\n",
    "def preprocess(df):\n",
    "    res = df.copy()\n",
    "    res = res[res.X != res.X.max()]\n",
    "    datetimes = res.Dates.apply(get_datetime)\n",
    "    res['Hour'] = datetimes.apply(lambda dt: dt.hour)\n",
    "    res['Month'] = datetimes.apply(lambda dt: dt.month)\n",
    "    res['Hour_Minutes'] = datetimes.apply(lambda dt: dt.hour + dt.minute / 60.0)\n",
    "    res['Minutes_Since_03'] = datetimes.apply(lambda dt: (dt-datetime(2003, 1, 1)).total_seconds() / 60)\n",
    "    res['Minutes_Since_New_Year'] = datetimes.apply(lambda dt: (dt-datetime(dt.year, 1, 1)).total_seconds() / 60)\n",
    "    res['DOW'] = train.DayOfWeek.apply(lambda x: dow.index(x))\n",
    "    res['Street_Corner'] = res['Address'].apply(lambda x: 1 if '/' in x else 0)\n",
    "    return res\n",
    "\n",
    "def get_datetime(s):\n",
    "    dt = datetime.strptime(s, \"%Y-%m-%d %H:%M:%S\")\n",
    "    return dt\n",
    "\n",
    "dow = ['Monday', 'Tuesday', 'Wednesday', 'Thursday', 'Friday', 'Saturday', 'Sunday']\n",
    "\n",
    "def isNight(hour):\n",
    "    if hour in [0, 1, 2, 3, 4, 5, 6, 19, 20, 21, 22, 23]:\n",
    "        return \"Night\"\n",
    "    else:\n",
    "        return \"Day\""
   ]
  },
  {
   "cell_type": "code",
   "execution_count": 22,
   "metadata": {
    "collapsed": false
   },
   "outputs": [],
   "source": [
    "train_df = preprocess(get_random_subset(train, 50000))\n",
    "# train_df = preprocess(train)"
   ]
  },
  {
   "cell_type": "code",
   "execution_count": null,
   "metadata": {
    "collapsed": false
   },
   "outputs": [],
   "source": [
    "formula_ml = 'C(DayOfWeek) + C(PdDistrict) + Street_Corner + X+Y+Hour+Month'\n",
    "\n",
    "x_vals = dmatrix(formula_ml, data=train_df, return_type='dataframe')\n",
    "y_vals = train_df.Category\n",
    "min_leaves = np.round_(np.logspace(1, 3.5, num=6)) # values from 10 to 3100\n",
    "\n",
    "parameters = {'min_samples_leaf':min_leaves}\n",
    "\n",
    "clf = GridSearchCV(RandomForestClassifier(), parameters, scoring='log_loss')\n",
    "\n",
    "clf.fit(x_vals, y_vals)\n",
    "\n",
    "for f in clf.grid_scores_:\n",
    "    print f"
   ]
  },
  {
   "cell_type": "code",
   "execution_count": 23,
   "metadata": {
    "collapsed": false
   },
   "outputs": [
    {
     "name": "stdout",
     "output_type": "stream",
     "text": [
      "mean: -2.66714, std: 0.00102, params: {'C': 0.0001}\n",
      "mean: -2.63735, std: 0.00096, params: {'C': 0.001}\n",
      "mean: -2.58922, std: 0.00141, params: {'C': 0.01}\n",
      "mean: -2.56882, std: 0.00159, params: {'C': 0.10000000000000001}\n",
      "mean: -2.56632, std: 0.00113, params: {'C': 1.0}\n",
      "mean: -2.56766, std: 0.00060, params: {'C': 10.0}\n",
      "mean: -2.56952, std: 0.00059, params: {'C': 100.0}\n",
      "mean: -2.57143, std: 0.00107, params: {'C': 1000.0}\n",
      "mean: -2.57284, std: 0.00151, params: {'C': 10000.0}\n"
     ]
    }
   ],
   "source": [
    "formula_ml = 'C(DayOfWeek) + C(PdDistrict) + Street_Corner + X+Y+Hour+Month'\n",
    "\n",
    "x_vals = dmatrix(formula_ml, data=train_df, return_type='dataframe')\n",
    "y_vals = train_df.Category\n",
    "\n",
    "vals = y_vals.value_counts()\n",
    "\n",
    "for index, value in vals.iteritems():\n",
    "    if value < 3:\n",
    "        x_vals = x_vals[y_vals != index]\n",
    "        y_vals = y_vals[y_vals != index]\n",
    "    \n",
    "\n",
    "Cs = np.logspace(-4, 4, 9)\n",
    "\n",
    "parameters = {'C':Cs}\n",
    "\n",
    "clf = GridSearchCV(LogisticRegression(), parameters, scoring='log_loss')\n",
    "\n",
    "clf.fit(x_vals, y_vals)\n",
    "\n",
    "for f in clf.grid_scores_:\n",
    "    print f"
   ]
  },
  {
   "cell_type": "code",
   "execution_count": null,
   "metadata": {
    "collapsed": false
   },
   "outputs": [],
   "source": [
    "for f in lg.C_:\n",
    "    print f"
   ]
  },
  {
   "cell_type": "code",
   "execution_count": null,
   "metadata": {
    "collapsed": true
   },
   "outputs": [],
   "source": []
  }
 ],
 "metadata": {
  "kernelspec": {
   "display_name": "Python 2",
   "language": "python",
   "name": "python2"
  },
  "language_info": {
   "codemirror_mode": {
    "name": "ipython",
    "version": 2
   },
   "file_extension": ".py",
   "mimetype": "text/x-python",
   "name": "python",
   "nbconvert_exporter": "python",
   "pygments_lexer": "ipython2",
   "version": "2.7.6"
  }
 },
 "nbformat": 4,
 "nbformat_minor": 0
}
